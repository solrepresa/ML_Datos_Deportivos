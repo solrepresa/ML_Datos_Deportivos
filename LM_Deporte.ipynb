{
  "nbformat": 4,
  "nbformat_minor": 0,
  "metadata": {
    "colab": {
      "name": "LM_Deporte.ipynb",
      "provenance": [],
      "authorship_tag": "ABX9TyPQQZhibFW7tVO2i/w/Nfjw",
      "include_colab_link": true
    },
    "kernelspec": {
      "name": "python3",
      "display_name": "Python 3"
    }
  },
  "cells": [
    {
      "cell_type": "markdown",
      "metadata": {
        "id": "view-in-github",
        "colab_type": "text"
      },
      "source": [
        "<a href=\"https://colab.research.google.com/github/solrepresa/ML_Datos_Deportivos/blob/master/LM_Deporte.ipynb\" target=\"_parent\"><img src=\"https://colab.research.google.com/assets/colab-badge.svg\" alt=\"Open In Colab\"/></a>"
      ]
    },
    {
      "cell_type": "markdown",
      "metadata": {
        "id": "6Nfg1WIEMn1Y",
        "colab_type": "text"
      },
      "source": [
        "# Análisis de Datos Deportivos"
      ]
    },
    {
      "cell_type": "markdown",
      "metadata": {
        "id": "lbe2pspEMw_w",
        "colab_type": "text"
      },
      "source": [
        "## 0) Configurar el entorno\n",
        "\n",
        "**¡Importantísimo!** \n",
        "\n",
        "Instalar JAVA en Google Colab. El siguiente código instala Apache Spark 2.4.4, Java 8 y Findspark , una biblioteca que facilita a Python encontrar Spark."
      ]
    },
    {
      "cell_type": "code",
      "metadata": {
        "id": "AQpXbha3Mjz3",
        "colab_type": "code",
        "colab": {}
      },
      "source": [
        "!apt-get install openjdk-8-jdk-headless -qq > /dev/null\n",
        "!wget -q https://downloads.apache.org/spark/spark-2.4.5/spark-2.4.5-bin-hadoop2.7.tgz\n",
        "!tar xf spark-2.4.5-bin-hadoop2.7.tgz\n",
        "!pip install -q findspark"
      ],
      "execution_count": 0,
      "outputs": []
    },
    {
      "cell_type": "code",
      "metadata": {
        "id": "S9Gn-iL9M5F7",
        "colab_type": "code",
        "outputId": "b189f043-65aa-4c10-fae9-9f416cb94250",
        "colab": {
          "base_uri": "https://localhost:8080/",
          "height": 69
        }
      },
      "source": [
        "import os\n",
        "os.environ[\"JAVA_HOME\"] = \"/usr/lib/jvm/java-8-openjdk-amd64\"\n",
        "os.environ[\"SPARK_HOME\"] = \"/content/spark-2.4.5-bin-hadoop2.7\"\n",
        "\n",
        "! java -version"
      ],
      "execution_count": 9,
      "outputs": [
        {
          "output_type": "stream",
          "text": [
            "openjdk version \"11.0.6\" 2020-01-14\n",
            "OpenJDK Runtime Environment (build 11.0.6+10-post-Ubuntu-1ubuntu118.04.1)\n",
            "OpenJDK 64-Bit Server VM (build 11.0.6+10-post-Ubuntu-1ubuntu118.04.1, mixed mode, sharing)\n"
          ],
          "name": "stdout"
        }
      ]
    },
    {
      "cell_type": "code",
      "metadata": {
        "id": "sepQ3PUNM9la",
        "colab_type": "code",
        "outputId": "9a3360b4-22b0-441f-d5bd-2d4f3fc63165",
        "colab": {
          "base_uri": "https://localhost:8080/",
          "height": 52
        }
      },
      "source": [
        "# Cargamos librerias\n",
        "!pip install --upgrade pyspark\n",
        "\n",
        "from pyspark import SparkConf, SparkContext\n",
        "from pyspark.sql import HiveContext\n",
        "from pyspark.ml import Pipeline\n",
        "from pyspark.ml.regression import RandomForestRegressor\n",
        "from pyspark.ml.tuning import ParamGridBuilder, CrossValidator\n",
        "#from pyspark.ml.feature import VectorIndexer\n",
        "from pyspark.ml.feature import VectorAssembler\n",
        "from pyspark.ml.evaluation import RegressionEvaluator\n",
        "from pyspark.context import SparkContext\n",
        "from pyspark.sql.functions import col\n",
        "from pyspark.sql.session import SparkSession\n",
        "\n",
        "\n",
        "import pandas as pd\n",
        "import numpy as np"
      ],
      "execution_count": 10,
      "outputs": [
        {
          "output_type": "stream",
          "text": [
            "Requirement already up-to-date: pyspark in /usr/local/lib/python3.6/dist-packages (2.4.5)\n",
            "Requirement already satisfied, skipping upgrade: py4j==0.10.7 in /usr/local/lib/python3.6/dist-packages (from pyspark) (0.10.7)\n"
          ],
          "name": "stdout"
        }
      ]
    },
    {
      "cell_type": "code",
      "metadata": {
        "id": "0IagAjg9NKQm",
        "colab_type": "code",
        "colab": {}
      },
      "source": [
        "import findspark\n",
        "findspark.init()"
      ],
      "execution_count": 0,
      "outputs": []
    },
    {
      "cell_type": "markdown",
      "metadata": {
        "id": "6icVeVooM4FD",
        "colab_type": "text"
      },
      "source": [
        "Creamos un contexto y sesión para Spark. Luego lo vamos a cerrar al final del código."
      ]
    },
    {
      "cell_type": "code",
      "metadata": {
        "id": "In5FiJmANSYJ",
        "colab_type": "code",
        "outputId": "c1996b0b-e9d9-4c6f-8df2-1b9c0c006de7",
        "colab": {
          "base_uri": "https://localhost:8080/",
          "height": 35
        }
      },
      "source": [
        "# Configuración de entorno\n",
        "confspark = SparkConf()\n",
        "confspark.set(\"spark.master\", \"local\") # 2 hilos ¿como se dice en español?\n",
        "confspark.set(\"spark.app.name\", \"AppPruebaMBDD\")"
      ],
      "execution_count": 12,
      "outputs": [
        {
          "output_type": "execute_result",
          "data": {
            "text/plain": [
              "<pyspark.conf.SparkConf at 0x7f065372c3c8>"
            ]
          },
          "metadata": {
            "tags": []
          },
          "execution_count": 12
        }
      ]
    },
    {
      "cell_type": "code",
      "metadata": {
        "id": "6Ku9lInMNn9M",
        "colab_type": "code",
        "colab": {}
      },
      "source": [
        "# Inicialización\n",
        "sc = SparkContext(conf = confspark)\n",
        "sqlcx = HiveContext(sc)"
      ],
      "execution_count": 0,
      "outputs": []
    },
    {
      "cell_type": "markdown",
      "metadata": {
        "id": "35U9wF-DTaPP",
        "colab_type": "text"
      },
      "source": [
        "---------------------------------------------------------------------------\n",
        "## 1) Preparación y descripción de los datos"
      ]
    },
    {
      "cell_type": "markdown",
      "metadata": {
        "id": "ydh3rqv_Oor-",
        "colab_type": "text"
      },
      "source": [
        "## 1.1 Cargar datos\n",
        "\n",
        "Para la carga de datos utilizamos Pandas:"
      ]
    },
    {
      "cell_type": "code",
      "metadata": {
        "id": "TpcI05u3OoYZ",
        "colab_type": "code",
        "colab": {}
      },
      "source": [
        "# Abrir conjunto de datos\n",
        "url = \"http://www.football-data.co.uk/mmz4281/1718/SP1.csv\"\n",
        "df = pd.read_csv(url)\n",
        "data = sqlcx.createDataFrame(df)"
      ],
      "execution_count": 0,
      "outputs": []
    },
    {
      "cell_type": "code",
      "metadata": {
        "id": "fbYXm1-GPQWP",
        "colab_type": "code",
        "outputId": "ab7cd769-8c34-44e1-a5cd-aeb65e2b3c11",
        "colab": {
          "base_uri": "https://localhost:8080/",
          "height": 35
        }
      },
      "source": [
        "type(data)"
      ],
      "execution_count": 15,
      "outputs": [
        {
          "output_type": "execute_result",
          "data": {
            "text/plain": [
              "pyspark.sql.dataframe.DataFrame"
            ]
          },
          "metadata": {
            "tags": []
          },
          "execution_count": 15
        }
      ]
    },
    {
      "cell_type": "code",
      "metadata": {
        "id": "Ta_4TRFoO7ud",
        "colab_type": "code",
        "outputId": "35ed06ae-66e3-48d1-904e-00ec5641e402",
        "colab": {
          "base_uri": "https://localhost:8080/",
          "height": 315
        }
      },
      "source": [
        "data.show(10) # Para visualizar las primeras 10 filas\n",
        "#data.printSchema() # Nos muestra en detalle las clases de nuestras variables"
      ],
      "execution_count": 16,
      "outputs": [
        {
          "output_type": "stream",
          "text": [
            "+---+--------+----------+-----------+----+----+---+----+----+---+---+---+---+---+---+---+---+---+---+---+---+---+-----+-----+-----+----+----+----+----+----+----+----+----+----+-----+----+----+----+----+----+----+----+----+-----+-----+-----+-----+-----+-----+-----+----+--------+--------+--------+--------+----+-----+-------+-------+-------+-------+----+----+----+\n",
            "|Div|    Date|  HomeTeam|   AwayTeam|FTHG|FTAG|FTR|HTHG|HTAG|HTR| HS| AS|HST|AST| HF| AF| HC| AC| HY| AY| HR| AR|B365H|B365D|B365A| BWH| BWD| BWA| IWH| IWD| IWA| LBH| LBD| LBA|  PSH| PSD| PSA| WHH| WHD| WHA| VCH| VCD| VCA|Bb1X2|BbMxH|BbAvH|BbMxD|BbAvD|BbMxA|BbAvA|BbOU|BbMx>2.5|BbAv>2.5|BbMx<2.5|BbAv<2.5|BbAH|BbAHh|BbMxAHH|BbAvAHH|BbMxAHA|BbAvAHA|PSCH|PSCD|PSCA|\n",
            "+---+--------+----------+-----------+----+----+---+----+----+---+---+---+---+---+---+---+---+---+---+---+---+---+-----+-----+-----+----+----+----+----+----+----+----+----+----+-----+----+----+----+----+----+----+----+----+-----+-----+-----+-----+-----+-----+-----+----+--------+--------+--------+--------+----+-----+-------+-------+-------+-------+----+----+----+\n",
            "|SP1|18/08/17|   Leganes|     Alaves|   1|   0|  H|   1|   0|  H| 16|  6|  9|  3| 14| 18|  4|  2|  0|  1|  0|  0| 2.05|  3.2|  4.1|2.05| 3.1| 4.1| 2.1| 3.4| 3.5|2.05| 3.0| 4.2| 2.03|3.25|4.52|2.05| 3.1| 4.0|2.05| 3.2| 4.4|   35| 2.12| 2.03|  3.4| 3.15| 4.52| 4.17|  31|    2.84|    2.68|    1.53|    1.46|  18| -0.5|   2.07|   2.03|    1.9|   1.86|1.98|3.35|4.63|\n",
            "|SP1|18/08/17|  Valencia| Las Palmas|   1|   0|  H|   1|   0|  H| 22|  5|  6|  4| 25| 13|  5|  2|  3|  3|  0|  1| 1.75|  3.8|  4.5|1.75| 3.9| 4.6|1.75| 3.6| 4.8|1.75| 3.8|4.33| 1.78|4.01|4.83| 1.8|3.75| 4.2| 1.8| 4.0| 4.6|   35| 1.83| 1.77| 4.04| 3.86| 4.83| 4.46|  33|    1.69|    1.64|     2.4|    2.27|  16|-0.75|   2.05|   1.97|   1.96|   1.91|1.78|4.24|4.43|\n",
            "|SP1|19/08/17|     Celta|   Sociedad|   2|   3|  A|   1|   1|  D| 16| 13|  5|  6| 12| 11|  5|  4|  3|  1|  0|  0| 2.38| 3.25|  3.2| 2.4| 3.3| 3.0| 2.5| 3.3|2.85|2.35|3.25| 3.0| 2.44| 3.4|3.16| 2.4| 3.4| 2.9| 2.4| 3.4|3.13|   35|  2.5| 2.39|  3.5| 3.32|  3.2| 3.01|  34|    2.03|    1.98|     1.9|    1.84|  18|-0.25|   2.08|   2.05|   1.87|   1.83|2.12|3.53|3.74|\n",
            "|SP1|19/08/17|    Girona| Ath Madrid|   2|   2|  D|   2|   0|  H| 13|  9|  6|  3| 15| 15|  6|  0|  2|  4|  0|  1|  8.0| 4.33| 1.45| 7.5|4.33|1.45| 7.2| 4.4|1.45| 7.5| 4.0| 1.5| 8.36|4.38|1.49| 8.0| 4.2|1.44| 7.5| 4.3| 1.5|   35| 8.36| 7.53|  4.4| 4.17| 1.51| 1.48|  34|     2.2|    2.11|     1.8|    1.74|  16| 1.25|   1.77|   1.75|   2.25|   2.16|6.93|3.83|1.63|\n",
            "|SP1|19/08/17|   Sevilla|    Espanol|   1|   1|  D|   1|   1|  D|  9|  9|  4|  6| 14| 12|  7|  3|  2|  4|  1|  0| 1.62|  4.0|  5.5|1.62| 3.9|5.75|1.55| 4.0| 6.2| 1.6| 3.9| 5.5| 1.62|4.17|6.18|1.67| 3.6| 5.5|1.65| 4.0|5.75|   35| 1.69| 1.63| 4.17| 3.93|  6.2| 5.58|  33|    1.81|    1.75|    2.14|    2.09|  16| -1.0|   2.12|   2.06|   1.86|   1.82|1.64|4.18|5.82|\n",
            "|SP1|20/08/17|Ath Bilbao|     Getafe|   0|   0|  D|   0|   0|  D| 12|  8|  2|  2| 16| 15|  7|  6|  1|  3|  0|  1|  1.5|  4.0|  7.5|1.48|4.25| 7.0| 1.5| 4.2| 6.5| 1.5| 4.0| 7.0| 1.53|4.37|7.31| 1.5| 4.0| 7.0| 1.5| 4.2| 7.0|   34| 1.53|  1.5|  4.4| 4.17|  7.5| 6.94|  32|    2.01|    1.94|    1.96|    1.87|  17| -1.0|    1.9|   1.86|   2.05|   2.01|1.53|4.48|6.91|\n",
            "|SP1|20/08/17| Barcelona|      Betis|   2|   0|  H|   2|   0|  H| 15|  3|  2|  0| 16| 15|  8|  0|  2|  1|  0|  0| 1.17|  8.0| 15.0|1.18| 7.5|14.5|1.17| 7.5|15.0| 1.2| 6.5|15.0| 1.22|7.35|15.5|1.22| 6.0|13.0| 1.2| 7.0|13.0|   35| 1.22| 1.19|  8.0| 7.11| 17.0|13.85|  27|    1.44|     1.4|     3.1|    2.88|  17| -2.0|   2.05|    2.0|   1.91|   1.86| 1.2|8.25|15.2|\n",
            "|SP1|20/08/17| La Coruna|Real Madrid|   0|   3|  A|   0|   2|  A| 12| 16|  6|  8| 16| 12|  4|  4|  5|  1|  0|  1|  9.5| 5.75|  1.3|9.25|5.75| 1.3| 7.5| 5.5|1.35| 9.5|5.25| 1.3|10.26|5.79|1.33|11.0| 4.5|1.33| 9.5|5.75| 1.3|   35|11.45| 9.68| 5.86| 5.44| 1.35| 1.31|  27|     1.5|    1.46|    2.95|    2.64|  16|  1.5|   2.03|   1.98|   1.95|   1.89|12.4| 7.0|1.26|\n",
            "|SP1|21/08/17|   Levante| Villarreal|   1|   0|  H|   0|   0|  D| 14|  9|  3|  1| 18| 14| 11|  6|  1|  3|  0|  0| 3.25| 3.25|  2.3|3.25| 3.2| 2.3| 3.3|3.35| 2.2|3.25| 3.1| 2.3| 3.36|3.24|2.36| 3.1| 3.1| 2.4|3.25|3.25| 2.3|   34|  3.5| 3.26| 3.35| 3.17|  2.4| 2.31|  32|    2.42|    2.36|    1.63|    1.58|  15| 0.25|   1.93|   1.89|   2.03|   1.98|3.31|3.32| 2.4|\n",
            "|SP1|21/08/17|    Malaga|      Eibar|   0|   1|  A|   0|   0|  D| 10| 13|  4|  6| 16| 15|  3|  7|  2|  3|  0|  0|  2.1|  3.3|  3.7|2.15| 3.3| 3.5| 2.1| 3.4| 3.5| 2.1| 3.1| 3.4| 2.24|3.36|3.49| 2.2| 3.3| 3.3|2.15| 3.3| 3.5|   34| 2.28| 2.18|  3.4| 3.26|  3.7| 3.43|  32|    2.25|    2.14|    1.76|     1.7|  17|-0.25|   1.92|   1.88|   2.04|   1.99| 2.2|3.27|3.85|\n",
            "+---+--------+----------+-----------+----+----+---+----+----+---+---+---+---+---+---+---+---+---+---+---+---+---+-----+-----+-----+----+----+----+----+----+----+----+----+----+-----+----+----+----+----+----+----+----+----+-----+-----+-----+-----+-----+-----+-----+----+--------+--------+--------+--------+----+-----+-------+-------+-------+-------+----+----+----+\n",
            "only showing top 10 rows\n",
            "\n"
          ],
          "name": "stdout"
        }
      ]
    },
    {
      "cell_type": "markdown",
      "metadata": {
        "id": "Ta7_yHbGUlKE",
        "colab_type": "text"
      },
      "source": [
        "Seleccionamos las variables para trabajar:"
      ]
    },
    {
      "cell_type": "code",
      "metadata": {
        "id": "lJBNyq0caaco",
        "colab_type": "code",
        "colab": {}
      },
      "source": [
        "#data.columns[2:22]\n",
        "data = data.select(data.columns[2:22]) # Nos quedamos con las columnas q nos interesan"
      ],
      "execution_count": 0,
      "outputs": []
    },
    {
      "cell_type": "markdown",
      "metadata": {
        "id": "cGKpNQAhO-lU",
        "colab_type": "text"
      },
      "source": [
        "Información sobre los datos:\n",
        "\n",
        "* *HomeTeam* es el equipo local. *AwayTeam* es el equipo visitante.\n",
        "\n",
        "* *HY*, *HR*, *AY*, *AR* son el número de tarjetas amarillas y rojas para los equipos locales y visitantes en cada partido."
      ]
    },
    {
      "cell_type": "markdown",
      "metadata": {
        "id": "dbkfO3BNbaNn",
        "colab_type": "text"
      },
      "source": [
        "### 1.2 Limpieza de NAN y NULL\n",
        "\n",
        "\n",
        "Limpieza de NAN y NULL: ¿Hay NAN o null?"
      ]
    },
    {
      "cell_type": "code",
      "metadata": {
        "id": "jJBb07mWbbt6",
        "colab_type": "code",
        "outputId": "4b577a0e-9ff6-4611-aaf5-153b505e2e1c",
        "colab": {
          "base_uri": "https://localhost:8080/",
          "height": 225
        }
      },
      "source": [
        "import pyspark.sql.functions as F\n",
        "\n",
        "data.select([F.count(F.when(F.isnan(c),c)).alias(c) for c in data.columns]).show() #Numero de NAN\n",
        "data.select([F.count(F.when(F.isnull(c),c)).alias(c) for c in data.columns]).show() #Numero de Null"
      ],
      "execution_count": 18,
      "outputs": [
        {
          "output_type": "stream",
          "text": [
            "+--------+--------+----+----+---+----+----+---+---+---+---+---+---+---+---+---+---+---+---+---+\n",
            "|HomeTeam|AwayTeam|FTHG|FTAG|FTR|HTHG|HTAG|HTR| HS| AS|HST|AST| HF| AF| HC| AC| HY| AY| HR| AR|\n",
            "+--------+--------+----+----+---+----+----+---+---+---+---+---+---+---+---+---+---+---+---+---+\n",
            "|       0|       0|   0|   0|  0|   0|   0|  0|  0|  0|  0|  0|  0|  0|  0|  0|  0|  0|  0|  0|\n",
            "+--------+--------+----+----+---+----+----+---+---+---+---+---+---+---+---+---+---+---+---+---+\n",
            "\n",
            "+--------+--------+----+----+---+----+----+---+---+---+---+---+---+---+---+---+---+---+---+---+\n",
            "|HomeTeam|AwayTeam|FTHG|FTAG|FTR|HTHG|HTAG|HTR| HS| AS|HST|AST| HF| AF| HC| AC| HY| AY| HR| AR|\n",
            "+--------+--------+----+----+---+----+----+---+---+---+---+---+---+---+---+---+---+---+---+---+\n",
            "|       0|       0|   0|   0|  0|   0|   0|  0|  0|  0|  0|  0|  0|  0|  0|  0|  0|  0|  0|  0|\n",
            "+--------+--------+----+----+---+----+----+---+---+---+---+---+---+---+---+---+---+---+---+---+\n",
            "\n"
          ],
          "name": "stdout"
        }
      ]
    },
    {
      "cell_type": "markdown",
      "metadata": {
        "id": "1jLj4H4kQNip",
        "colab_type": "text"
      },
      "source": [
        "### 1.3 Parámetros descriptivos\n",
        "Previo a obtener la descripción estadística de los datos eliminamos las filas repetidas, esto lo hacemos con la función **distinct()**. Los parámetros estadísticos los podemos ver con la función **describe()**."
      ]
    },
    {
      "cell_type": "code",
      "metadata": {
        "id": "BgkWk0O8W7ti",
        "colab_type": "code",
        "outputId": "85bfd87e-b833-44c7-9597-73a855508fae",
        "colab": {
          "base_uri": "https://localhost:8080/",
          "height": 211
        }
      },
      "source": [
        "data = data.distinct() # Por si hay datos duplicados\n",
        "data.describe().show() # Para ver estadísticos descriptivos"
      ],
      "execution_count": 19,
      "outputs": [
        {
          "output_type": "stream",
          "text": [
            "+-------+----------+----------+------------------+------------------+----+------------------+------------------+----+------------------+------------------+------------------+-----------------+-----------------+------------------+-----------------+------------------+------------------+------------------+-------------------+-------------------+\n",
            "|summary|  HomeTeam|  AwayTeam|              FTHG|              FTAG| FTR|              HTHG|              HTAG| HTR|                HS|                AS|               HST|              AST|               HF|                AF|               HC|                AC|                HY|                AY|                 HR|                 AR|\n",
            "+-------+----------+----------+------------------+------------------+----+------------------+------------------+----+------------------+------------------+------------------+-----------------+-----------------+------------------+-----------------+------------------+------------------+------------------+-------------------+-------------------+\n",
            "|  count|       380|       380|               380|               380| 380|               380|               380| 380|               380|               380|               380|              380|              380|               380|              380|               380|               380|               380|                380|                380|\n",
            "|   mean|      null|      null|1.5473684210526315|1.1473684210526316|null|0.6605263157894737|0.4868421052631579|null|13.526315789473685|10.471052631578948| 4.757894736842105|3.805263157894737|13.73421052631579|13.952631578947368|5.613157894736842| 4.192105263157894|2.3394736842105264|2.6763157894736844|0.11052631578947368|0.07894736842105263|\n",
            "| stddev|      null|      null|1.3784502104324623|1.1867200184400557|null|0.8521397787170123|0.6676351572795292|null|4.5379481264297095| 4.215401331750506|2.4461084897256384|2.316391900029653|4.301976984061267|    4.341353997786|2.676061282100535|2.4650465835507305|1.5792251989051789|1.5991313952502777|0.32225252203823873|0.27961327867808655|\n",
            "|    min|    Alaves|    Alaves|                 0|                 0|   A|                 0|                 0|   A|                 2|                 1|                 0|                0|                4|                 0|                0|                 0|                 0|                 0|                  0|                  0|\n",
            "|    max|Villarreal|Villarreal|                 7|                 6|   H|                 5|                 3|   H|                30|                24|                14|               13|               29|                29|               16|                14|                 8|                 9|                  2|                  2|\n",
            "+-------+----------+----------+------------------+------------------+----+------------------+------------------+----+------------------+------------------+------------------+-----------------+-----------------+------------------+-----------------+------------------+------------------+------------------+-------------------+-------------------+\n",
            "\n"
          ],
          "name": "stdout"
        }
      ]
    },
    {
      "cell_type": "markdown",
      "metadata": {
        "id": "VrUPwW9pdCgG",
        "colab_type": "text"
      },
      "source": [
        "Se propone como actividad transformar variables numéricas a categóricas."
      ]
    },
    {
      "cell_type": "code",
      "metadata": {
        "id": "44PkrwlOdKcw",
        "colab_type": "code",
        "colab": {}
      },
      "source": [
        "# Faltas del equipo local\n",
        "data_transf = data.withColumn(\"CategoriaFaltas\", F.when(F.col(\"HF\").between(10,20), \"MEDIA\").when(F.col(\"HF\")<10, \"POCAS\").otherwise(\"MUCHAS\"))\n",
        "\n",
        "# Total de tarjetas en el partido\n",
        "data_transf = data_transf.withColumn(\"TotalTarjeta\", data.HY + data.HR + data.AY + data.AR)"
      ],
      "execution_count": 0,
      "outputs": []
    },
    {
      "cell_type": "code",
      "metadata": {
        "id": "e54DPgJGfLrE",
        "colab_type": "code",
        "outputId": "48d4230c-c2cf-4921-a0d0-222c6b04b176",
        "colab": {
          "base_uri": "https://localhost:8080/",
          "height": 208
        }
      },
      "source": [
        "data_transf.show(5)"
      ],
      "execution_count": 22,
      "outputs": [
        {
          "output_type": "stream",
          "text": [
            "+-----------+-----------+----+----+---+----+----+---+---+---+---+---+---+---+---+---+---+---+---+---+---------------+------------+\n",
            "|   HomeTeam|   AwayTeam|FTHG|FTAG|FTR|HTHG|HTAG|HTR| HS| AS|HST|AST| HF| AF| HC| AC| HY| AY| HR| AR|CategoriaFaltas|TotalTarjeta|\n",
            "+-----------+-----------+----+----+---+----+----+---+---+---+---+---+---+---+---+---+---+---+---+---+---------------+------------+\n",
            "|    Espanol|      Betis|   1|   0|  H|   0|   0|  D| 10|  9|  4|  4| 10| 17|  5|  3|  2|  5|  0|  0|          MEDIA|           7|\n",
            "|    Leganes|     Malaga|   2|   0|  H|   0|   0|  D| 10|  4|  3|  1| 11| 14|  6|  1|  1|  1|  0|  0|          MEDIA|           2|\n",
            "|    Sevilla|Real Madrid|   3|   2|  H|   2|   0|  H| 14| 14|  6|  4| 21|  9|  2|  3|  3|  1|  0|  0|         MUCHAS|           4|\n",
            "|  Barcelona|   Sociedad|   1|   0|  H|   0|   0|  D| 12| 13|  4|  2| 13| 13|  3|  8|  3|  2|  0|  0|          MEDIA|           5|\n",
            "|Real Madrid|      Betis|   0|   1|  A|   0|   0|  D| 27| 12|  7|  4| 13| 11| 12|  3|  0|  3|  0|  0|          MEDIA|           3|\n",
            "+-----------+-----------+----+----+---+----+----+---+---+---+---+---+---+---+---+---+---+---+---+---+---------------+------------+\n",
            "only showing top 5 rows\n",
            "\n"
          ],
          "name": "stdout"
        }
      ]
    },
    {
      "cell_type": "code",
      "metadata": {
        "id": "8xWX_dg1kgH-",
        "colab_type": "code",
        "colab": {}
      },
      "source": [
        "#Normalizacion de las variables (no es necesario porq los métodos son no parametricos)\n",
        "\n",
        "#from pyspark.sql.function import udf\n",
        "#from pyspark.sql.types import FloatType\n",
        "\n",
        "## Definimos una funcion para normalizar los valores\n",
        "#def normalize(valor, media, desviacion):\n",
        "#  return(valor - media)/desviacion\n",
        "\n",
        "## Registramos la funcion como funcion de usuario\n",
        "# normalize_udf = udf(normalize, FloatTipe())"
      ],
      "execution_count": 0,
      "outputs": []
    },
    {
      "cell_type": "markdown",
      "metadata": {
        "id": "HzQng9qcmi27",
        "colab_type": "text"
      },
      "source": [
        "### 1.4 Convertir datos *string* \n",
        "Antes de aplicar el modelo necesitamos convertir las variables de tipo texto. ¿Cuáles son las variables tipo string que tenemos?"
      ]
    },
    {
      "cell_type": "code",
      "metadata": {
        "id": "hlaez8DOmvJM",
        "colab_type": "code",
        "outputId": "88924d67-c373-4627-b36c-1beeda506ac4",
        "colab": {
          "base_uri": "https://localhost:8080/",
          "height": 35
        }
      },
      "source": [
        "# Seleccionamos columnas de tipo string\n",
        "catcolums = [item[0] for item in data_transf.dtypes if item[1].startswith('string')] \n",
        "print(catcolums)"
      ],
      "execution_count": 23,
      "outputs": [
        {
          "output_type": "stream",
          "text": [
            "['HomeTeam', 'AwayTeam', 'FTR', 'HTR', 'CategoriaFaltas']\n"
          ],
          "name": "stdout"
        }
      ]
    },
    {
      "cell_type": "markdown",
      "metadata": {
        "id": "JHFf9LZLmpd8",
        "colab_type": "text"
      },
      "source": [
        "Convertir las variables texto en categóricas llevan varios pasos:\n",
        "\n",
        "1.   Definimos las variables de ingreso al modelo con **StringIndexer()**\n",
        "2.   Entrenamos el modelo con **fit**\n",
        "3.   Transformamos nuestros datos con **transform**\n",
        "\n",
        "\n",
        "La función **StringIndexer()** convierte una columna *string* en una columna *index* que es tratada con una variable categorica por spark. Los indices comienzan en 0 y avanzan por la frecuencia con la que aparecen.\n",
        "\n",
        "Luego, con la función **OneHotEncoder()** convertimos la variable del tipo categórico en dummy."
      ]
    },
    {
      "cell_type": "markdown",
      "metadata": {
        "id": "FyDFTirjDqBn",
        "colab_type": "text"
      },
      "source": [
        "Veamos una forma rápida de hacer todo esto:"
      ]
    },
    {
      "cell_type": "code",
      "metadata": {
        "id": "ISmZkXFbCETX",
        "colab_type": "code",
        "colab": {}
      },
      "source": [
        "from pyspark.ml.feature import StringIndexer\n",
        "from pyspark.ml.feature import OneHotEncoder\n",
        "\n",
        "all_stages = [StringIndexer(inputCol=c, outputCol='idx_' + c) for c in catcolums] + [OneHotEncoder(inputCol='idx_' + c, outputCol='ohe_' + c) for c in catcolums]\n",
        "\n",
        "data_new = Pipeline(stages = all_stages).fit(data_transf).transform(data_transf) #de lista a dataFrame\n",
        "\n",
        "#data_new.show(3)"
      ],
      "execution_count": 0,
      "outputs": []
    },
    {
      "cell_type": "markdown",
      "metadata": {
        "id": "DBoY3pxYE-w2",
        "colab_type": "text"
      },
      "source": [
        "Ya teniendo todos los datos como números, procedemos a armar el FEATURES.\n",
        "\n",
        "\n",
        "Para crear la columna FEATURES en utilizamos la función **VectorAssembler()**. Primero, creamos el modelo que nos permite transformar nuestros datos de entrada en una única columna y luego transformamos nuestros datos con la función **transform()**. Con la función **drop()** quitamos las columnas que no nos van a servir:"
      ]
    },
    {
      "cell_type": "code",
      "metadata": {
        "id": "ibvsbThbowmz",
        "colab_type": "code",
        "colab": {}
      },
      "source": [
        "output = VectorAssembler(inputCols=['ohe_HomeTeam', 'ohe_AwayTeam', 'ohe_FTR',  'ohe_HTR', 'ohe_CategoriaFaltas',\n",
        "                                       'FTHG', 'FTAG', 'HTHG', 'HTAG', 'HS', 'AS', 'HST', 'AST', 'HF', 'AF', 'HC',\n",
        "                                       'AC', 'HY', 'AY', 'HR', 'AR'], \n",
        "                            outputCol='featuresCol').transform(data_new).drop('HomeTeam', 'HTR','AwayTeam', 'FTR','CategoriaFaltas',\n",
        "                                                                              'idx_HomeTeam', 'idx_AwayTeam', 'idx_FTR', 'idx_HTR',\n",
        "                                                                              'idx_CategoriaFaltas')\n",
        "\n",
        "#output.show(truncate=False)"
      ],
      "execution_count": 0,
      "outputs": []
    },
    {
      "cell_type": "markdown",
      "metadata": {
        "id": "JuQyR4mwKZWM",
        "colab_type": "text"
      },
      "source": [
        "### 1.5 Crear set de entrenamiento y de prueba\n",
        "\n",
        "Antes de continuar, dividimos nuestros datos en un set de entrenamiento (80%) y otro de prueba (20%):"
      ]
    },
    {
      "cell_type": "code",
      "metadata": {
        "id": "WqBaJsLaKV_2",
        "colab_type": "code",
        "colab": {}
      },
      "source": [
        "(trainingData, testData) = output.randomSplit([0.8, 0.2], seed = 132)"
      ],
      "execution_count": 0,
      "outputs": []
    },
    {
      "cell_type": "markdown",
      "metadata": {
        "id": "lq9yon1ITInw",
        "colab_type": "text"
      },
      "source": [
        "--------------------------------------------------------------------------------\n",
        "\n",
        "## 2) Implementación y análisis de algún modelo de clasificación\n",
        "\n",
        "### 2.1) Modelo de **Regresión logística multinomial**\n",
        "Utilizamos la función **LogisticRegression()** para crear el modelo. El parámetro *maxIter* determina el número de iteraciones. Luego con **fit()** lo entrenamos.\n"
      ]
    },
    {
      "cell_type": "code",
      "metadata": {
        "id": "Rv2UB-qeTsX1",
        "colab_type": "code",
        "colab": {}
      },
      "source": [
        "from pyspark.ml.classification import LogisticRegression\n",
        "\n",
        "# Definimos el modelo > Regresión logística multinomial\n",
        "lr = LogisticRegression(featuresCol = 'featuresCol', labelCol = 'TotalTarjeta', maxIter=10).fit(trainingData)"
      ],
      "execution_count": 0,
      "outputs": []
    },
    {
      "cell_type": "markdown",
      "metadata": {
        "id": "1dx7zDitQaIH",
        "colab_type": "text"
      },
      "source": [
        "Para obtener los parámetros del modelo:"
      ]
    },
    {
      "cell_type": "code",
      "metadata": {
        "id": "dgvIdjt3MOOD",
        "colab_type": "code",
        "colab": {}
      },
      "source": [
        "## Parámetros del modelo de Regresión Logística Multinomial\n",
        "# print(\"Coeficientes: \\n\" + str(lr.coefficientMatrix))\n",
        "# print(\"Intercepcion: \" + str(lr.interceptVector))\n"
      ],
      "execution_count": 0,
      "outputs": []
    },
    {
      "cell_type": "markdown",
      "metadata": {
        "id": "AI6UxL1wQc9Y",
        "colab_type": "text"
      },
      "source": [
        "Más información del modelo se obteniene con la función **summary()**"
      ]
    },
    {
      "cell_type": "code",
      "metadata": {
        "id": "19GlB1qxP4J6",
        "colab_type": "code",
        "colab": {}
      },
      "source": [
        "trainingSummary = lr.summary"
      ],
      "execution_count": 0,
      "outputs": []
    },
    {
      "cell_type": "code",
      "metadata": {
        "id": "N-XoBAW1MiSx",
        "colab_type": "code",
        "colab": {}
      },
      "source": [
        "# Obtain the objective per iteration\n",
        "objectiveHistory = trainingSummary.objectiveHistory\n",
        "print(\"objectiveHistory:\")\n",
        "for objective in objectiveHistory:\n",
        "    print(objective)\n"
      ],
      "execution_count": 0,
      "outputs": []
    },
    {
      "cell_type": "code",
      "metadata": {
        "id": "XjwxpcFkMp9-",
        "colab_type": "code",
        "colab": {}
      },
      "source": [
        "# for multiclass, we can inspect metrics on a per-label basis\n",
        "print(\"False positive rate by label:\")\n",
        "for i, rate in enumerate(trainingSummary.falsePositiveRateByLabel):\n",
        "    print(\"label %d: %s\" % (i, rate))\n",
        "\n",
        "print(\"True positive rate by label:\")\n",
        "for i, rate in enumerate(trainingSummary.truePositiveRateByLabel):\n",
        "    print(\"label %d: %s\" % (i, rate))\n",
        "\n",
        "print(\"Precision by label:\")\n",
        "for i, prec in enumerate(trainingSummary.precisionByLabel):\n",
        "    print(\"label %d: %s\" % (i, prec))\n",
        "\n",
        "print(\"Recall by label:\")\n",
        "for i, rec in enumerate(trainingSummary.recallByLabel):\n",
        "    print(\"label %d: %s\" % (i, rec))\n",
        "\n",
        "print(\"F-measure by label:\")\n",
        "for i, f in enumerate(trainingSummary.fMeasureByLabel()):\n",
        "    print(\"label %d: %s\" % (i, f))"
      ],
      "execution_count": 0,
      "outputs": []
    },
    {
      "cell_type": "markdown",
      "metadata": {
        "id": "ZFxemim-QnXt",
        "colab_type": "text"
      },
      "source": [
        "### 2.2) Evaluamos el ajuste del modelo"
      ]
    },
    {
      "cell_type": "code",
      "metadata": {
        "id": "wfz79VcOThik",
        "colab_type": "code",
        "colab": {
          "base_uri": "https://localhost:8080/",
          "height": 121
        },
        "outputId": "191a601d-baac-422a-924b-65624f6860db"
      },
      "source": [
        "accuracy = trainingSummary.accuracy\n",
        "falsePositiveRate = trainingSummary.weightedFalsePositiveRate\n",
        "truePositiveRate = trainingSummary.weightedTruePositiveRate\n",
        "fMeasure = trainingSummary.weightedFMeasure()\n",
        "precision = trainingSummary.weightedPrecision\n",
        "recall = trainingSummary.weightedRecall\n",
        "print(\"Accuracy: %s\\nFPR: %s\\nTPR: %s\\nF-measure: %s\\nPrecision: %s\\nRecall: %s\"\n",
        "      % (accuracy, falsePositiveRate, truePositiveRate, fMeasure, precision, recall))"
      ],
      "execution_count": 33,
      "outputs": [
        {
          "output_type": "stream",
          "text": [
            "Accuracy: 0.6559485530546624\n",
            "FPR: 0.052519567434777106\n",
            "TPR: 0.6559485530546625\n",
            "F-measure: 0.6543303997555765\n",
            "Precision: 0.6808330474737649\n",
            "Recall: 0.6559485530546625\n"
          ],
          "name": "stdout"
        }
      ]
    },
    {
      "cell_type": "markdown",
      "metadata": {
        "id": "qPdeyIYxNtXZ",
        "colab_type": "text"
      },
      "source": [
        "-------------------------------------------------------------------------------\n",
        "## 3) Implementación y análisis de algún modelo de regresión\n",
        "\n",
        "### 3.1) Modelo **Random Forest**\n",
        "\n",
        "Creamos el modelo de regresión Random Forest con la función **RandomForestRegressor()**:\n"
      ]
    },
    {
      "cell_type": "code",
      "metadata": {
        "id": "NgiYbUqtr_Dj",
        "colab_type": "code",
        "colab": {}
      },
      "source": [
        "# Definimos el modelo > Random Forest\n",
        "rf = RandomForestRegressor(featuresCol = 'featuresCol', labelCol = 'TotalTarjeta', numTrees=100, seed= 123).fit(trainingData)"
      ],
      "execution_count": 0,
      "outputs": []
    },
    {
      "cell_type": "markdown",
      "metadata": {
        "id": "Ja4PweNQs00n",
        "colab_type": "text"
      },
      "source": [
        "Finalmente, generamos las predicciones del modelo con la función **transform()**. "
      ]
    },
    {
      "cell_type": "code",
      "metadata": {
        "id": "K5uGzbk9s0fz",
        "colab_type": "code",
        "colab": {}
      },
      "source": [
        "predictions = rf.transform(testData)"
      ],
      "execution_count": 0,
      "outputs": []
    },
    {
      "cell_type": "markdown",
      "metadata": {
        "id": "ajvnfVfhtMkf",
        "colab_type": "text"
      },
      "source": [
        "### 3.2) Evaluamos el modelo\n",
        "\n",
        "Para evaluar el modelo confeccionamos una serie de parámetros:"
      ]
    },
    {
      "cell_type": "code",
      "metadata": {
        "id": "rI3tt1eDtPNM",
        "colab_type": "code",
        "colab": {
          "base_uri": "https://localhost:8080/",
          "height": 104
        },
        "outputId": "37483d52-d773-401e-930b-dd7f7eea4c0f"
      },
      "source": [
        "eval = RegressionEvaluator(labelCol = 'TotalTarjeta', predictionCol=\"prediction\", metricName=\"rmse\")\n",
        "\n",
        "print(\"Modelo RF sin CV\")\n",
        "# Root Mean Square Error\n",
        "rmse = eval.evaluate(predictions)\n",
        "print(\"Root Mean Squared Error (RMSE) on test data: %.3f\" % rmse)\n",
        "\n",
        "# Mean Square Error\n",
        "mse = eval.evaluate(predictions, {eval.metricName: \"mse\"})\n",
        "print(\"Mean Square Error (MSE) on test data: %.3f\" % mse)\n",
        "\n",
        "# Mean Absolute Error\n",
        "mae = eval.evaluate(predictions, {eval.metricName: \"mae\"})\n",
        "print(\"Mean Absolute Error (MAE) on test data: %.3f\" % mae)\n",
        "\n",
        "# r2 - coefficient of determination\n",
        "r2 = eval.evaluate(predictions, {eval.metricName: \"r2\"})\n",
        "print(\"R Squared (R2) on test data: %.3f\" %r2)"
      ],
      "execution_count": 39,
      "outputs": [
        {
          "output_type": "stream",
          "text": [
            "Modelo RF sin CV\n",
            "Root Mean Squared Error (RMSE) on test data: 1.029\n",
            "Mean Square Error (MSE) on test data: 1.058\n",
            "Mean Absolute Error (MAE) on test data: 0.708\n",
            "R Squared (R2) on test data: 0.863\n"
          ],
          "name": "stdout"
        }
      ]
    },
    {
      "cell_type": "markdown",
      "metadata": {
        "id": "l_bUi2Gvta1k",
        "colab_type": "text"
      },
      "source": [
        "### 3.3) Gráficamos las predicciones. \n",
        "\n",
        "Para ello es necesario convertir los datos del formato de Spark a Pandas con la función **toPandas()**. Para la gráfica utilizamos la librería *matplotlib*:"
      ]
    },
    {
      "cell_type": "code",
      "metadata": {
        "id": "to1QabIytdJy",
        "colab_type": "code",
        "colab": {
          "base_uri": "https://localhost:8080/",
          "height": 308
        },
        "outputId": "af5ccea4-eec9-48d9-c94d-c45fba7b96b7"
      },
      "source": [
        "rfResult = predictions.toPandas()\n",
        "#rfResult.head()\n",
        "\n",
        "import matplotlib.pyplot as plt\n",
        "plt.plot(rfResult.TotalTarjeta, rfResult.prediction, 'bo')\n",
        "plt.xlabel('Measeure')\n",
        "plt.ylabel('Prediction')\n",
        "plt.suptitle(\"Model Performance RMSE: %f\" % rmse)\n",
        "plt.show()"
      ],
      "execution_count": 42,
      "outputs": [
        {
          "output_type": "display_data",
          "data": {
            "image/png": "[encoded data removed]",
            "text/plain": [
              "<Figure size 432x288 with 1 Axes>"
            ]
          },
          "metadata": {
            "tags": []
          }
        }
      ]
    },
    {
      "cell_type": "markdown",
      "metadata": {
        "id": "jjq9iJJdHdik",
        "colab_type": "text"
      },
      "source": [
        "-----------------------------------------------------------------------------\n",
        "## 4) Webs consultadas\n",
        "¡Gracias a la comunidad que construye conocimiento y lo pone a disposición!\n",
        "\n",
        "* Este sitio me resultó de muchísima utilidad: https://mingchen0919.github.io/learning-apache-spark/ \n",
        "* https://towardsdatascience.com/machine-learning-with-pyspark-and-mllib-solving-a-binary-classification-problem-96396065d2aa"
      ]
    }
  ]
}